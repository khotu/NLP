{
 "cells": [
  {
   "cell_type": "raw",
   "metadata": {},
   "source": [
    "### Web Scrapping using Beautifulsoup Library \n",
    "### install Beautifulsoup4 library"
   ]
  },
  {
   "cell_type": "code",
   "execution_count": 17,
   "metadata": {},
   "outputs": [],
   "source": [
    "from urllib import request    # library for opening URLs using a variety of protocols"
   ]
  },
  {
   "cell_type": "code",
   "execution_count": 31,
   "metadata": {},
   "outputs": [],
   "source": [
    "url = 'https://en.wikipedia.org/wiki/Natural_language_processing'"
   ]
  },
  {
   "cell_type": "code",
   "execution_count": 32,
   "metadata": {},
   "outputs": [],
   "source": [
    "web = request.urlopen(url=url,)   # Open the URL url, which can be either a string or a Request object."
   ]
  },
  {
   "cell_type": "code",
   "execution_count": 33,
   "metadata": {},
   "outputs": [],
   "source": [
    "# read the entire document using .read() method of Http.client.httpResponse() class \n",
    "html = web.read()"
   ]
  },
  {
   "cell_type": "code",
   "execution_count": 49,
   "metadata": {},
   "outputs": [
    {
     "data": {
      "text/plain": [
       "bytes"
      ]
     },
     "execution_count": 49,
     "metadata": {},
     "output_type": "execute_result"
    }
   ],
   "source": [
    "type(html)"
   ]
  },
  {
   "cell_type": "code",
   "execution_count": 47,
   "metadata": {},
   "outputs": [
    {
     "name": "stdout",
     "output_type": "stream",
     "text": [
      "b'<!DOC'\n"
     ]
    },
    {
     "data": {
      "text/plain": [
       "124177"
      ]
     },
     "execution_count": 47,
     "metadata": {},
     "output_type": "execute_result"
    }
   ],
   "source": [
    "print(html[:5])     # Each letter is an index\n",
    "\n",
    "## Total no. of Letters\n",
    "len(html) "
   ]
  },
  {
   "cell_type": "code",
   "execution_count": 50,
   "metadata": {},
   "outputs": [],
   "source": [
    "# two sequential words contains a space so split them, then we get total no. of tokens\n",
    "tokens = [token for token in html.split()]   "
   ]
  },
  {
   "cell_type": "code",
   "execution_count": 51,
   "metadata": {},
   "outputs": [
    {
     "data": {
      "text/plain": [
       "7555"
      ]
     },
     "execution_count": 51,
     "metadata": {},
     "output_type": "execute_result"
    }
   ],
   "source": [
    "len(tokens)"
   ]
  },
  {
   "cell_type": "code",
   "execution_count": 54,
   "metadata": {},
   "outputs": [
    {
     "name": "stdout",
     "output_type": "stream",
     "text": [
      "[b'<!DOCTYPE', b'html>', b'<html', b'class=\"client-nojs\"', b'lang=\"en\"', b'dir=\"ltr\">', b'<head>', b'<meta', b'charset=\"UTF-8\"/>', b'<title>Natural', b'language', b'processing', b'-', b'Wikipedia</title>', b'<script>document.documentElement.className=\"client-js\";RLCONF={\"wgBreakFrames\":!1,\"wgSeparatorTransformTable\":[\"\",\"\"],\"wgDigitTransformTable\":[\"\",\"\"],\"wgDefaultDateFormat\":\"dmy\",\"wgMonthNames\":[\"\",\"January\",\"February\",\"March\",\"April\",\"May\",\"June\",\"July\",\"August\",\"September\",\"October\",\"November\",\"December\"],\"wgMonthNamesShort\":[\"\",\"Jan\",\"Feb\",\"Mar\",\"Apr\",\"May\",\"Jun\",\"Jul\",\"Aug\",\"Sep\",\"Oct\",\"Nov\",\"Dec\"],\"wgRequestId\":\"XjoN-wpAMEoAAA6ts-AAAACE\",\"wgCSPNonce\":!1,\"wgCanonicalNamespace\":\"\",\"wgCanonicalSpecialPageName\":!1,\"wgNamespaceNumber\":0,\"wgPageName\":\"Natural_language_processing\",\"wgTitle\":\"Natural', b'language', b'processing\",\"wgCurRevisionId\":937763725,\"wgRevisionId\":937763725,\"wgArticleId\":21652,\"wgIsArticle\":!0,\"wgIsRedirect\":!1,\"wgAction\":\"view\",\"wgUserName\":null,\"wgUserGroups\":[\"*\"],\"wgCategories\":[\"CS1', b'maint:', b'location\",\"Wikipedia', b'articles', b'needing', b'clarification', b'from', b'October', b'2019\",\"All', b'accuracy', b'disputes\",\"Articles', b'with', b'disputed', b'statements', b'from', b'June', b'2018\",', b'\"Wikipedia', b'articles', b'with', b'LCCN', b'identifiers\",\"Wikipedia', b'articles', b'with', b'NDL', b'identifiers\",\"Natural', b'language', b'processing\",\"Computational', b'linguistics\",\"Speech', b'recognition\",\"Computational', b'fields', b'of', b'study\",\"Artificial', b'intelligence\"],\"wgPageContentLanguage\":\"en\",\"wgPageContentModel\":\"wikitext\",\"wgRelevantPageName\":\"Natural_language_processing\",\"wgRelevantArticleId\":21652,\"wgIsProbablyEditable\":!0,\"wgRelevantPageIsProbablyEditable\":!0,\"wgRestrictionEdit\":[],\"wgRestrictionMove\":[],\"wgMediaViewerOnClick\":!0,\"wgMediaViewerEnabledByDefault\":!0,\"wgPopupsReferencePreviews\":!1,\"wgPopupsConflictsWithNavPopupGadget\":!1,\"wgVisualEditor\":{\"pageLanguageCode\":\"en\",\"pageLanguageDir\":\"ltr\",\"pageVariantFallbacks\":\"en\"},\"wgMFDisplayWikibaseDescriptions\":{\"search\":!0,\"nearby\":!0,\"watchlist\":!0,\"tagline\":!1},\"wgWMESchemaEditAttemptStepOversample\":!1,\"wgULSCurrentAutonym\":\"English\",\"wgNoticeProject\":\"wikipedia\",\"wgWikibaseItemId\":\"Q30642\",\"wgCentralAuthMobileDomain\":!1,']\n"
     ]
    }
   ],
   "source": [
    "print(tokens[:50])"
   ]
  },
  {
   "cell_type": "markdown",
   "metadata": {},
   "source": [
    "#### As we can see there are some html tags, special characters, and much more...  that we will not consider as a raw text data"
   ]
  },
  {
   "cell_type": "markdown",
   "metadata": {},
   "source": [
    "### Hence we will gonna be used regular expression to filter out these text , \n",
    "#### so import re"
   ]
  },
  {
   "cell_type": "code",
   "execution_count": 55,
   "metadata": {},
   "outputs": [],
   "source": [
    "# import re\n",
    "import re"
   ]
  },
  {
   "cell_type": "markdown",
   "metadata": {},
   "source": [
    "In re module we have many useful functions to filter out any text"
   ]
  },
  {
   "cell_type": "code",
   "execution_count": 59,
   "metadata": {},
   "outputs": [],
   "source": [
    "# re.split(pattern, string, maxsplit=0, flags=0)\n",
    "\n",
    "tokens = re.split(r'\\W+', str(html))        #Split the Non ALphaNumeric string by the occurrences of the pattern"
   ]
  },
  {
   "cell_type": "code",
   "execution_count": 78,
   "metadata": {},
   "outputs": [
    {
     "name": "stdout",
     "output_type": "stream",
     "text": [
      "['b', 'DOCTYPE', 'html', 'n', 'html', 'class', 'client', 'nojs', 'lang', 'en', 'dir', 'ltr', 'n', 'head', 'n', 'meta', 'charset', 'UTF', '8', 'n', 'title', 'Natural', 'language', 'processing', 'Wikipedia', 'title', 'n', 'script', 'document', 'documentElement', 'className', 'client', 'js', 'RLCONF', 'wgBreakFrames', '1', 'wgSeparatorTransformTable', 'wgDigitTransformTable', 'wgDefaultDateFormat', 'dmy', 'wgMonthNames', 'January', 'February', 'March', 'April', 'May', 'June', 'July', 'August', 'September', 'October', 'November', 'December', 'wgMonthNamesShort', 'Jan', 'Feb', 'Mar', 'Apr', 'May', 'Jun', 'Jul', 'Aug', 'Sep', 'Oct', 'Nov', 'Dec', 'wgRequestId', 'XjoN', 'wpAMEoAAA6ts', 'AAAACE', 'wgCSPNonce', '1', 'wgCanonicalNamespace', 'wgCanonicalSpecialPageName', '1', 'wgNamespaceNumber', '0', 'wgPageName', 'Natural_language_processing', 'wgTitle', 'Natural', 'language', 'processing', 'wgCurRevisionId', '937763725', 'wgRevisionId', '937763725', 'wgArticleId', '21652', 'wgIsArticle', '0', 'wgIsRedirect', '1', 'wgAction', 'view', 'wgUserName', 'null', 'wgUserGroups', 'wgCategories', 'CS1']\n"
     ]
    }
   ],
   "source": [
    "print(tokens[:100])"
   ]
  },
  {
   "cell_type": "code",
   "execution_count": 62,
   "metadata": {},
   "outputs": [
    {
     "data": {
      "text/plain": [
       "21350"
      ]
     },
     "execution_count": 62,
     "metadata": {},
     "output_type": "execute_result"
    }
   ],
   "source": [
    "len(tokens)"
   ]
  },
  {
   "cell_type": "markdown",
   "metadata": {},
   "source": [
    "#### in these tokens special characters has been removed by regular expression but tag_names still presented like \"html\", 'title'... to overcome this problem we will gonna be used Beautifulsoup library "
   ]
  },
  {
   "cell_type": "markdown",
   "metadata": {},
   "source": [
    "# Python || Beautiful soup"
   ]
  },
  {
   "cell_type": "code",
   "execution_count": 63,
   "metadata": {},
   "outputs": [],
   "source": [
    "from bs4 import BeautifulSoup"
   ]
  },
  {
   "cell_type": "code",
   "execution_count": 64,
   "metadata": {},
   "outputs": [],
   "source": [
    "soup = BeautifulSoup(html, \"html.parser\")"
   ]
  },
  {
   "cell_type": "code",
   "execution_count": 66,
   "metadata": {},
   "outputs": [
    {
     "data": {
      "text/plain": [
       "4"
      ]
     },
     "execution_count": 66,
     "metadata": {},
     "output_type": "execute_result"
    }
   ],
   "source": [
    "len(soup)"
   ]
  },
  {
   "cell_type": "code",
   "execution_count": 68,
   "metadata": {},
   "outputs": [
    {
     "data": {
      "text/plain": [
       "bs4.BeautifulSoup"
      ]
     },
     "execution_count": 68,
     "metadata": {},
     "output_type": "execute_result"
    }
   ],
   "source": [
    "type(soup)"
   ]
  },
  {
   "cell_type": "code",
   "execution_count": 125,
   "metadata": {
    "collapsed": true,
    "jupyter": {
     "outputs_hidden": true
    }
   },
   "outputs": [
    {
     "data": {
      "text/plain": [
       "['Natural language processing (NLP) is a subfield of linguistics, computer science, information engineering, and artificial intelligence concerned with the interactions between computers and human (natural) languages, in particular how to program computers to process and analyze large amounts of natural language data.\\n',\n",
       " 'Challenges in natural language processing frequently involve speech recognition, natural language understanding, and natural language generation.\\n',\n",
       " 'The history of natural language processing (NLP) generally started in the 1950s, although work can be found from earlier periods.\\nIn 1950, Alan Turing published an article titled \"Computing Machinery and Intelligence\" which proposed what is now called the Turing test as a criterion of intelligence[clarification needed].\\n',\n",
       " 'The Georgetown experiment in 1954 involved fully automatic translation of more than sixty Russian sentences into English. The authors claimed that within three or five years, machine translation would be a solved problem.[2]  However, real progress was much slower, and after the ALPAC report in 1966, which found that ten-year-long research had failed to fulfill the expectations, funding for machine translation was dramatically reduced.  Little further research in machine translation was conducted until the late 1980s when the first statistical machine translation systems were developed.\\n',\n",
       " 'Some notably successful natural language processing systems developed in the 1960s were SHRDLU, a natural language system working in restricted \"blocks worlds\" with restricted vocabularies, and ELIZA, a simulation of a Rogerian psychotherapist, written by Joseph Weizenbaum between 1964 and 1966.  Using almost no information about human thought or emotion, ELIZA sometimes provided a startlingly human-like interaction. When the \"patient\" exceeded the very small knowledge base, ELIZA might provide a generic response, for example, responding to \"My head hurts\" with \"Why do you say your head hurts?\".\\n',\n",
       " 'During the 1970s, many programmers began to write \"conceptual ontologies\", which structured real-world information into computer-understandable data.  Examples are MARGIE (Schank, 1975), SAM (Cullingford, 1978), PAM (Wilensky, 1978), TaleSpin (Meehan, 1976), QUALM (Lehnert, 1977), Politics (Carbonell, 1979), and Plot Units (Lehnert 1981).  During this time, many chatterbots were written including PARRY, Racter, and Jabberwacky.\\n',\n",
       " \"Up to the 1980s, most natural language processing systems were based on complex sets of hand-written rules.  Starting in the late 1980s, however, there was a revolution in natural language processing with the introduction of machine learning algorithms for language processing.  This was due to both the steady increase in computational power (see Moore's law) and the gradual lessening of the dominance of Chomskyan theories of linguistics (e.g. transformational grammar), whose theoretical underpinnings discouraged the sort of corpus linguistics that underlies the machine-learning approach to language processing.[3] Some of the earliest-used machine learning algorithms, such as decision trees, produced systems of hard if-then rules similar to existing hand-written rules.  However, part-of-speech tagging introduced the use of hidden Markov models to natural language processing, and increasingly, research has focused on statistical models, which make soft, probabilistic decisions based on attaching real-valued weights to the features making up the input data. The cache language models upon which many speech recognition systems now rely are examples of such statistical models.  Such models are generally more robust when given unfamiliar input, especially input that contains errors (as is very common for real-world data), and produce more reliable results when integrated into a larger system comprising multiple subtasks.\\n\",\n",
       " 'Many of the notable early successes occurred in the field of machine translation, due especially to work at IBM Research, where successively more complicated statistical models were developed.  These systems were able to take advantage of existing multilingual textual corpora that had been produced by the Parliament of Canada and the European Union as a result of laws calling for the translation of all governmental proceedings into all official languages of the corresponding systems of government.  However, most other systems depended on corpora specifically developed for the tasks implemented by these systems, which was (and often continues to be) a major limitation in the success of these systems. As a result, a great deal of research has gone into methods of more effectively learning from limited amounts of data.\\n',\n",
       " 'Recent research has increasingly focused on unsupervised and semi-supervised learning algorithms.  Such algorithms can learn from data that has not been hand-annotated with the desired answers or using a combination of annotated and non-annotated data.  Generally, this task is much more difficult than supervised learning, and typically produces less accurate results for a given amount of input data.  However, there is an enormous amount of non-annotated data available (including, among other things, the entire content of the World Wide Web), which can often make up for the inferior results if the algorithm used has a low enough time complexity to be practical.\\n',\n",
       " 'In the 2010s, representation learning and deep neural network-style machine learning methods became widespread in natural language processing, due in part to a flurry of results showing that such techniques[4][5] can achieve state-of-the-art results in many natural language tasks, for example in language modeling,[6] parsing,[7][8] and many others. Popular techniques include the use of word embeddings to capture semantic properties of words, and an increase in end-to-end learning of a higher-level task (e.g., question answering) instead of relying on a pipeline of separate intermediate tasks (e.g., part-of-speech tagging and dependency parsing). In some areas, this shift has entailed substantial changes in how NLP systems are designed, such that deep neural network-based approaches may be viewed as a new paradigm distinct from statistical natural language processing. For instance, the term neural machine translation (NMT) emphasizes the fact that deep learning-based approaches to machine translation directly learn sequence-to-sequence transformations, obviating the need for intermediate steps such as word alignment and language modeling that was used in statistical machine translation (SMT).\\n',\n",
       " 'In the early days, many language-processing systems were designed by hand-coding a set of rules:[9][10] such as by writing grammars or devising heuristic rules for stemming. \\n',\n",
       " 'Since the so-called \"statistical revolution\"[11][12] in the late 1980s and mid-1990s, much natural language processing research has relied heavily on machine learning. The machine-learning paradigm calls instead for using statistical inference to automatically learn such rules through the analysis of large corpora (the plural form of corpus, is a set of documents, possibly with human or computer annotations) of typical real-world examples.\\n',\n",
       " 'Many different classes of machine-learning algorithms have been applied to natural-language-processing tasks. These algorithms take as input a large set of \"features\" that are generated from the input data. Some of the earliest-used algorithms, such as decision trees, produced systems of hard if-then rules similar to the systems of handwritten rules that were then common. Increasingly, however, research has focused on statistical models, which make soft, probabilistic decisions based on attaching real-valued weights to each input feature. Such models have the advantage that they can express the relative certainty of many different possible answers rather than only one, producing more reliable results when such a model is included as a component of a larger system.\\n',\n",
       " 'Systems based on machine-learning algorithms have many advantages over hand-produced rules:\\n',\n",
       " 'The following is a list of some of the most commonly researched tasks in natural language processing. Some of these tasks have direct real-world applications, while others more commonly serve as subtasks that are used to aid in solving larger tasks.\\n',\n",
       " 'Though natural language processing tasks are closely intertwined, they are frequently subdivided into categories for convenience. A coarse division is given below.\\n',\n",
       " 'The first published work by an artificial intelligence was published in 2018, 1 the Road, marketed as a novel, contains sixty million words.\\n']"
      ]
     },
     "execution_count": 125,
     "metadata": {},
     "output_type": "execute_result"
    }
   ],
   "source": [
    "contents = []\n",
    "for i in soup.find_all(name='p'):\n",
    "    contents.append(i.get_text())\n",
    "contents"
   ]
  },
  {
   "cell_type": "code",
   "execution_count": 117,
   "metadata": {
    "collapsed": true,
    "jupyter": {
     "outputs_hidden": true
    }
   },
   "outputs": [
    {
     "name": "stdout",
     "output_type": "stream",
     "text": [
      "[['Natural', 'language', 'processing', '(NLP)', 'is', 'a', 'subfield', 'of', 'linguistics,', 'computer', 'science,', 'information', 'engineering,', 'and', 'artificial', 'intelligence', 'concerned', 'with', 'the', 'interactions', 'between', 'computers', 'and', 'human', '(natural)', 'languages,', 'in', 'particular', 'how', 'to', 'program', 'computers', 'to', 'process', 'and', 'analyze', 'large', 'amounts', 'of', 'natural', 'language', 'data.'], ['Challenges', 'in', 'natural', 'language', 'processing', 'frequently', 'involve', 'speech', 'recognition,', 'natural', 'language', 'understanding,', 'and', 'natural', 'language', 'generation.'], ['The', 'history', 'of', 'natural', 'language', 'processing', '(NLP)', 'generally', 'started', 'in', 'the', '1950s,', 'although', 'work', 'can', 'be', 'found', 'from', 'earlier', 'periods.', 'In', '1950,', 'Alan', 'Turing', 'published', 'an', 'article', 'titled', '\"Computing', 'Machinery', 'and', 'Intelligence\"', 'which', 'proposed', 'what', 'is', 'now', 'called', 'the', 'Turing', 'test', 'as', 'a', 'criterion', 'of', 'intelligence[clarification', 'needed].'], ['The', 'Georgetown', 'experiment', 'in', '1954', 'involved', 'fully', 'automatic', 'translation', 'of', 'more', 'than', 'sixty', 'Russian', 'sentences', 'into', 'English.', 'The', 'authors', 'claimed', 'that', 'within', 'three', 'or', 'five', 'years,', 'machine', 'translation', 'would', 'be', 'a', 'solved', 'problem.[2]', 'However,', 'real', 'progress', 'was', 'much', 'slower,', 'and', 'after', 'the', 'ALPAC', 'report', 'in', '1966,', 'which', 'found', 'that', 'ten-year-long', 'research', 'had', 'failed', 'to', 'fulfill', 'the', 'expectations,', 'funding', 'for', 'machine', 'translation', 'was', 'dramatically', 'reduced.', 'Little', 'further', 'research', 'in', 'machine', 'translation', 'was', 'conducted', 'until', 'the', 'late', '1980s', 'when', 'the', 'first', 'statistical', 'machine', 'translation', 'systems', 'were', 'developed.'], ['Some', 'notably', 'successful', 'natural', 'language', 'processing', 'systems', 'developed', 'in', 'the', '1960s', 'were', 'SHRDLU,', 'a', 'natural', 'language', 'system', 'working', 'in', 'restricted', '\"blocks', 'worlds\"', 'with', 'restricted', 'vocabularies,', 'and', 'ELIZA,', 'a', 'simulation', 'of', 'a', 'Rogerian', 'psychotherapist,', 'written', 'by', 'Joseph', 'Weizenbaum', 'between', '1964', 'and', '1966.', 'Using', 'almost', 'no', 'information', 'about', 'human', 'thought', 'or', 'emotion,', 'ELIZA', 'sometimes', 'provided', 'a', 'startlingly', 'human-like', 'interaction.', 'When', 'the', '\"patient\"', 'exceeded', 'the', 'very', 'small', 'knowledge', 'base,', 'ELIZA', 'might', 'provide', 'a', 'generic', 'response,', 'for', 'example,', 'responding', 'to', '\"My', 'head', 'hurts\"', 'with', '\"Why', 'do', 'you', 'say', 'your', 'head', 'hurts?\".'], ['During', 'the', '1970s,', 'many', 'programmers', 'began', 'to', 'write', '\"conceptual', 'ontologies\",', 'which', 'structured', 'real-world', 'information', 'into', 'computer-understandable', 'data.', 'Examples', 'are', 'MARGIE', '(Schank,', '1975),', 'SAM', '(Cullingford,', '1978),', 'PAM', '(Wilensky,', '1978),', 'TaleSpin', '(Meehan,', '1976),', 'QUALM', '(Lehnert,', '1977),', 'Politics', '(Carbonell,', '1979),', 'and', 'Plot', 'Units', '(Lehnert', '1981).', 'During', 'this', 'time,', 'many', 'chatterbots', 'were', 'written', 'including', 'PARRY,', 'Racter,', 'and', 'Jabberwacky.'], ['Up', 'to', 'the', '1980s,', 'most', 'natural', 'language', 'processing', 'systems', 'were', 'based', 'on', 'complex', 'sets', 'of', 'hand-written', 'rules.', 'Starting', 'in', 'the', 'late', '1980s,', 'however,', 'there', 'was', 'a', 'revolution', 'in', 'natural', 'language', 'processing', 'with', 'the', 'introduction', 'of', 'machine', 'learning', 'algorithms', 'for', 'language', 'processing.', 'This', 'was', 'due', 'to', 'both', 'the', 'steady', 'increase', 'in', 'computational', 'power', '(see', \"Moore's\", 'law)', 'and', 'the', 'gradual', 'lessening', 'of', 'the', 'dominance', 'of', 'Chomskyan', 'theories', 'of', 'linguistics', '(e.g.', 'transformational', 'grammar),', 'whose', 'theoretical', 'underpinnings', 'discouraged', 'the', 'sort', 'of', 'corpus', 'linguistics', 'that', 'underlies', 'the', 'machine-learning', 'approach', 'to', 'language', 'processing.[3]', 'Some', 'of', 'the', 'earliest-used', 'machine', 'learning', 'algorithms,', 'such', 'as', 'decision', 'trees,', 'produced', 'systems', 'of', 'hard', 'if-then', 'rules', 'similar', 'to', 'existing', 'hand-written', 'rules.', 'However,', 'part-of-speech', 'tagging', 'introduced', 'the', 'use', 'of', 'hidden', 'Markov', 'models', 'to', 'natural', 'language', 'processing,', 'and', 'increasingly,', 'research', 'has', 'focused', 'on', 'statistical', 'models,', 'which', 'make', 'soft,', 'probabilistic', 'decisions', 'based', 'on', 'attaching', 'real-valued', 'weights', 'to', 'the', 'features', 'making', 'up', 'the', 'input', 'data.', 'The', 'cache', 'language', 'models', 'upon', 'which', 'many', 'speech', 'recognition', 'systems', 'now', 'rely', 'are', 'examples', 'of', 'such', 'statistical', 'models.', 'Such', 'models', 'are', 'generally', 'more', 'robust', 'when', 'given', 'unfamiliar', 'input,', 'especially', 'input', 'that', 'contains', 'errors', '(as', 'is', 'very', 'common', 'for', 'real-world', 'data),', 'and', 'produce', 'more', 'reliable', 'results', 'when', 'integrated', 'into', 'a', 'larger', 'system', 'comprising', 'multiple', 'subtasks.'], ['Many', 'of', 'the', 'notable', 'early', 'successes', 'occurred', 'in', 'the', 'field', 'of', 'machine', 'translation,', 'due', 'especially', 'to', 'work', 'at', 'IBM', 'Research,', 'where', 'successively', 'more', 'complicated', 'statistical', 'models', 'were', 'developed.', 'These', 'systems', 'were', 'able', 'to', 'take', 'advantage', 'of', 'existing', 'multilingual', 'textual', 'corpora', 'that', 'had', 'been', 'produced', 'by', 'the', 'Parliament', 'of', 'Canada', 'and', 'the', 'European', 'Union', 'as', 'a', 'result', 'of', 'laws', 'calling', 'for', 'the', 'translation', 'of', 'all', 'governmental', 'proceedings', 'into', 'all', 'official', 'languages', 'of', 'the', 'corresponding', 'systems', 'of', 'government.', 'However,', 'most', 'other', 'systems', 'depended', 'on', 'corpora', 'specifically', 'developed', 'for', 'the', 'tasks', 'implemented', 'by', 'these', 'systems,', 'which', 'was', '(and', 'often', 'continues', 'to', 'be)', 'a', 'major', 'limitation', 'in', 'the', 'success', 'of', 'these', 'systems.', 'As', 'a', 'result,', 'a', 'great', 'deal', 'of', 'research', 'has', 'gone', 'into', 'methods', 'of', 'more', 'effectively', 'learning', 'from', 'limited', 'amounts', 'of', 'data.'], ['Recent', 'research', 'has', 'increasingly', 'focused', 'on', 'unsupervised', 'and', 'semi-supervised', 'learning', 'algorithms.', 'Such', 'algorithms', 'can', 'learn', 'from', 'data', 'that', 'has', 'not', 'been', 'hand-annotated', 'with', 'the', 'desired', 'answers', 'or', 'using', 'a', 'combination', 'of', 'annotated', 'and', 'non-annotated', 'data.', 'Generally,', 'this', 'task', 'is', 'much', 'more', 'difficult', 'than', 'supervised', 'learning,', 'and', 'typically', 'produces', 'less', 'accurate', 'results', 'for', 'a', 'given', 'amount', 'of', 'input', 'data.', 'However,', 'there', 'is', 'an', 'enormous', 'amount', 'of', 'non-annotated', 'data', 'available', '(including,', 'among', 'other', 'things,', 'the', 'entire', 'content', 'of', 'the', 'World', 'Wide', 'Web),', 'which', 'can', 'often', 'make', 'up', 'for', 'the', 'inferior', 'results', 'if', 'the', 'algorithm', 'used', 'has', 'a', 'low', 'enough', 'time', 'complexity', 'to', 'be', 'practical.'], ['In', 'the', '2010s,', 'representation', 'learning', 'and', 'deep', 'neural', 'network-style', 'machine', 'learning', 'methods', 'became', 'widespread', 'in', 'natural', 'language', 'processing,', 'due', 'in', 'part', 'to', 'a', 'flurry', 'of', 'results', 'showing', 'that', 'such', 'techniques[4][5]', 'can', 'achieve', 'state-of-the-art', 'results', 'in', 'many', 'natural', 'language', 'tasks,', 'for', 'example', 'in', 'language', 'modeling,[6]', 'parsing,[7][8]', 'and', 'many', 'others.', 'Popular', 'techniques', 'include', 'the', 'use', 'of', 'word', 'embeddings', 'to', 'capture', 'semantic', 'properties', 'of', 'words,', 'and', 'an', 'increase', 'in', 'end-to-end', 'learning', 'of', 'a', 'higher-level', 'task', '(e.g.,', 'question', 'answering)', 'instead', 'of', 'relying', 'on', 'a', 'pipeline', 'of', 'separate', 'intermediate', 'tasks', '(e.g.,', 'part-of-speech', 'tagging', 'and', 'dependency', 'parsing).', 'In', 'some', 'areas,', 'this', 'shift', 'has', 'entailed', 'substantial', 'changes', 'in', 'how', 'NLP', 'systems', 'are', 'designed,', 'such', 'that', 'deep', 'neural', 'network-based', 'approaches', 'may', 'be', 'viewed', 'as', 'a', 'new', 'paradigm', 'distinct', 'from', 'statistical', 'natural', 'language', 'processing.', 'For', 'instance,', 'the', 'term', 'neural', 'machine', 'translation', '(NMT)', 'emphasizes', 'the', 'fact', 'that', 'deep', 'learning-based', 'approaches', 'to', 'machine', 'translation', 'directly', 'learn', 'sequence-to-sequence', 'transformations,', 'obviating', 'the', 'need', 'for', 'intermediate', 'steps', 'such', 'as', 'word', 'alignment', 'and', 'language', 'modeling', 'that', 'was', 'used', 'in', 'statistical', 'machine', 'translation', '(SMT).'], ['In', 'the', 'early', 'days,', 'many', 'language-processing', 'systems', 'were', 'designed', 'by', 'hand-coding', 'a', 'set', 'of', 'rules:[9][10]', 'such', 'as', 'by', 'writing', 'grammars', 'or', 'devising', 'heuristic', 'rules', 'for', 'stemming.'], ['Since', 'the', 'so-called', '\"statistical', 'revolution\"[11][12]', 'in', 'the', 'late', '1980s', 'and', 'mid-1990s,', 'much', 'natural', 'language', 'processing', 'research', 'has', 'relied', 'heavily', 'on', 'machine', 'learning.', 'The', 'machine-learning', 'paradigm', 'calls', 'instead', 'for', 'using', 'statistical', 'inference', 'to', 'automatically', 'learn', 'such', 'rules', 'through', 'the', 'analysis', 'of', 'large', 'corpora', '(the', 'plural', 'form', 'of', 'corpus,', 'is', 'a', 'set', 'of', 'documents,', 'possibly', 'with', 'human', 'or', 'computer', 'annotations)', 'of', 'typical', 'real-world', 'examples.'], ['Many', 'different', 'classes', 'of', 'machine-learning', 'algorithms', 'have', 'been', 'applied', 'to', 'natural-language-processing', 'tasks.', 'These', 'algorithms', 'take', 'as', 'input', 'a', 'large', 'set', 'of', '\"features\"', 'that', 'are', 'generated', 'from', 'the', 'input', 'data.', 'Some', 'of', 'the', 'earliest-used', 'algorithms,', 'such', 'as', 'decision', 'trees,', 'produced', 'systems', 'of', 'hard', 'if-then', 'rules', 'similar', 'to', 'the', 'systems', 'of', 'handwritten', 'rules', 'that', 'were', 'then', 'common.', 'Increasingly,', 'however,', 'research', 'has', 'focused', 'on', 'statistical', 'models,', 'which', 'make', 'soft,', 'probabilistic', 'decisions', 'based', 'on', 'attaching', 'real-valued', 'weights', 'to', 'each', 'input', 'feature.', 'Such', 'models', 'have', 'the', 'advantage', 'that', 'they', 'can', 'express', 'the', 'relative', 'certainty', 'of', 'many', 'different', 'possible', 'answers', 'rather', 'than', 'only', 'one,', 'producing', 'more', 'reliable', 'results', 'when', 'such', 'a', 'model', 'is', 'included', 'as', 'a', 'component', 'of', 'a', 'larger', 'system.'], ['Systems', 'based', 'on', 'machine-learning', 'algorithms', 'have', 'many', 'advantages', 'over', 'hand-produced', 'rules:'], ['The', 'following', 'is', 'a', 'list', 'of', 'some', 'of', 'the', 'most', 'commonly', 'researched', 'tasks', 'in', 'natural', 'language', 'processing.', 'Some', 'of', 'these', 'tasks', 'have', 'direct', 'real-world', 'applications,', 'while', 'others', 'more', 'commonly', 'serve', 'as', 'subtasks', 'that', 'are', 'used', 'to', 'aid', 'in', 'solving', 'larger', 'tasks.'], ['Though', 'natural', 'language', 'processing', 'tasks', 'are', 'closely', 'intertwined,', 'they', 'are', 'frequently', 'subdivided', 'into', 'categories', 'for', 'convenience.', 'A', 'coarse', 'division', 'is', 'given', 'below.'], ['The', 'first', 'published', 'work', 'by', 'an', 'artificial', 'intelligence', 'was', 'published', 'in', '2018,', '1', 'the', 'Road,', 'marketed', 'as', 'a', 'novel,', 'contains', 'sixty', 'million', 'words.']]\n"
     ]
    }
   ],
   "source": [
    "print([i.split() for i in contents])"
   ]
  },
  {
   "cell_type": "markdown",
   "metadata": {},
   "source": [
    "## Python || nltk"
   ]
  },
  {
   "cell_type": "code",
   "execution_count": 141,
   "metadata": {},
   "outputs": [],
   "source": [
    "from nltk.tokenize import word_tokenize\n",
    "import nltk\n",
    "import matplotlib.pyplot as plt"
   ]
  },
  {
   "cell_type": "code",
   "execution_count": 160,
   "metadata": {
    "collapsed": true,
    "jupyter": {
     "outputs_hidden": true
    }
   },
   "outputs": [
    {
     "name": "stdout",
     "output_type": "stream",
     "text": [
      "['[', \"'Natural\", 'language', 'processing', '(', 'NLP', ')', 'is', 'a', 'subfield', 'of', 'linguistics', ',', 'computer', 'science', ',', 'information', 'engineering', ',', 'and', 'artificial', 'intelligence', 'concerned', 'with', 'the', 'interactions', 'between', 'computers', 'and', 'human', '(', 'natural', ')', 'languages', ',', 'in', 'particular', 'how', 'to', 'program', 'computers', 'to', 'process', 'and', 'analyze', 'large', 'amounts', 'of', 'natural', 'language', 'data.\\\\n', \"'\", ',', \"'Challenges\", 'in', 'natural', 'language', 'processing', 'frequently', 'involve', 'speech', 'recognition', ',', 'natural', 'language', 'understanding', ',', 'and', 'natural', 'language', 'generation.\\\\n', \"'\", ',', \"'The\", 'history', 'of', 'natural', 'language', 'processing', '(', 'NLP', ')', 'generally', 'started', 'in', 'the', '1950s', ',', 'although', 'work', 'can', 'be', 'found', 'from', 'earlier', 'periods.\\\\nIn', '1950', ',', 'Alan', 'Turing', 'published', 'an', 'article', 'titled', '``', 'Computing', 'Machinery', 'and', 'Intelligence', \"''\", 'which', 'proposed', 'what', 'is', 'now', 'called', 'the', 'Turing', 'test', 'as', 'a', 'criterion', 'of', 'intelligence', '[', 'clarification', 'needed', ']', '.\\\\n', \"'\", ',', \"'The\", 'Georgetown', 'experiment', 'in', '1954', 'involved', 'fully', 'automatic', 'translation', 'of', 'more', 'than', 'sixty', 'Russian', 'sentences', 'into', 'English', '.', 'The', 'authors', 'claimed', 'that', 'within', 'three', 'or', 'five', 'years', ',', 'machine', 'translation', 'would', 'be', 'a', 'solved', 'problem', '.', '[', '2', ']', 'However', ',', 'real', 'progress', 'was', 'much', 'slower', ',', 'and', 'after', 'the', 'ALPAC', 'report', 'in', '1966', ',', 'which', 'found', 'that', 'ten-year-long', 'research', 'had', 'failed', 'to', 'fulfill', 'the', 'expectations', ',', 'funding', 'for', 'machine', 'translation', 'was', 'dramatically', 'reduced', '.', 'Little', 'further', 'research', 'in', 'machine', 'translation', 'was', 'conducted', 'until', 'the', 'late', '1980s', 'when', 'the', 'first', 'statistical', 'machine', 'translation', 'systems', 'were', 'developed.\\\\n', \"'\", ',', \"'Some\", 'notably', 'successful', 'natural', 'language', 'processing', 'systems', 'developed', 'in', 'the', '1960s', 'were', 'SHRDLU', ',', 'a', 'natural', 'language', 'system', 'working', 'in', 'restricted', '``', 'blocks', 'worlds', \"''\", 'with', 'restricted', 'vocabularies', ',', 'and', 'ELIZA', ',', 'a', 'simulation', 'of', 'a', 'Rogerian', 'psychotherapist', ',', 'written', 'by', 'Joseph', 'Weizenbaum', 'between', '1964', 'and', '1966', '.', 'Using', 'almost', 'no', 'information', 'about', 'human', 'thought', 'or', 'emotion', ',', 'ELIZA', 'sometimes', 'provided', 'a', 'startlingly', 'human-like', 'interaction', '.', 'When', 'the', '``', 'patient', \"''\", 'exceeded', 'the', 'very', 'small', 'knowledge', 'base', ',', 'ELIZA', 'might', 'provide', 'a', 'generic', 'response', ',', 'for', 'example', ',', 'responding', 'to', '``', 'My', 'head', 'hurts', \"''\", 'with', '``', 'Why', 'do', 'you', 'say', 'your', 'head', 'hurts', '?', '``', '.\\\\n', \"'\", ',', \"'During\", 'the', '1970s', ',', 'many', 'programmers', 'began', 'to', 'write', '``', 'conceptual', 'ontologies', \"''\", ',', 'which', 'structured', 'real-world', 'information', 'into', 'computer-understandable', 'data', '.', 'Examples', 'are', 'MARGIE', '(', 'Schank', ',', '1975', ')', ',', 'SAM', '(', 'Cullingford', ',', '1978', ')', ',', 'PAM', '(', 'Wilensky', ',', '1978', ')', ',', 'TaleSpin', '(', 'Meehan', ',', '1976', ')', ',', 'QUALM', '(', 'Lehnert', ',', '1977', ')', ',', 'Politics', '(', 'Carbonell', ',', '1979', ')', ',', 'and', 'Plot', 'Units', '(', 'Lehnert', '1981', ')', '.', 'During', 'this', 'time', ',', 'many', 'chatterbots', 'were', 'written', 'including', 'PARRY', ',', 'Racter', ',', 'and', 'Jabberwacky.\\\\n', \"'\", ',', '``', 'Up', 'to', 'the', '1980s', ',', 'most', 'natural', 'language', 'processing', 'systems', 'were', 'based', 'on', 'complex', 'sets', 'of', 'hand-written', 'rules', '.', 'Starting', 'in', 'the', 'late', '1980s', ',', 'however', ',', 'there', 'was', 'a', 'revolution', 'in', 'natural', 'language', 'processing', 'with', 'the', 'introduction', 'of', 'machine', 'learning', 'algorithms', 'for', 'language', 'processing', '.', 'This', 'was', 'due', 'to', 'both', 'the', 'steady', 'increase', 'in', 'computational', 'power', '(', 'see', 'Moore', \"'s\", 'law', ')', 'and', 'the', 'gradual', 'lessening', 'of', 'the', 'dominance', 'of', 'Chomskyan', 'theories', 'of', 'linguistics', '(', 'e.g', '.', 'transformational', 'grammar', ')', ',', 'whose', 'theoretical', 'underpinnings', 'discouraged', 'the', 'sort', 'of', 'corpus', 'linguistics', 'that', 'underlies', 'the', 'machine-learning', 'approach', 'to', 'language', 'processing', '.', '[', '3', ']', 'Some', 'of', 'the', 'earliest-used', 'machine', 'learning', 'algorithms', ',', 'such', 'as', 'decision', 'trees', ',', 'produced', 'systems', 'of', 'hard', 'if-then', 'rules', 'similar', 'to', 'existing', 'hand-written', 'rules', '.', 'However', ',', 'part-of-speech', 'tagging', 'introduced', 'the', 'use', 'of', 'hidden', 'Markov', 'models', 'to', 'natural', 'language', 'processing', ',', 'and', 'increasingly', ',', 'research', 'has', 'focused', 'on', 'statistical', 'models', ',', 'which', 'make', 'soft', ',', 'probabilistic', 'decisions', 'based', 'on', 'attaching', 'real-valued', 'weights', 'to', 'the', 'features', 'making', 'up', 'the', 'input', 'data', '.', 'The', 'cache', 'language', 'models', 'upon', 'which', 'many', 'speech', 'recognition', 'systems', 'now', 'rely', 'are', 'examples', 'of', 'such', 'statistical', 'models', '.', 'Such', 'models', 'are', 'generally', 'more', 'robust', 'when', 'given', 'unfamiliar', 'input', ',', 'especially', 'input', 'that', 'contains', 'errors', '(', 'as', 'is', 'very', 'common', 'for', 'real-world', 'data', ')', ',', 'and', 'produce', 'more', 'reliable', 'results', 'when', 'integrated', 'into', 'a', 'larger', 'system', 'comprising', 'multiple', 'subtasks.\\\\n', \"''\", ',', \"'Many\", 'of', 'the', 'notable', 'early', 'successes', 'occurred', 'in', 'the', 'field', 'of', 'machine', 'translation', ',', 'due', 'especially', 'to', 'work', 'at', 'IBM', 'Research', ',', 'where', 'successively', 'more', 'complicated', 'statistical', 'models', 'were', 'developed', '.', 'These', 'systems', 'were', 'able', 'to', 'take', 'advantage', 'of', 'existing', 'multilingual', 'textual', 'corpora', 'that', 'had', 'been', 'produced', 'by', 'the', 'Parliament', 'of', 'Canada', 'and', 'the', 'European', 'Union', 'as', 'a', 'result', 'of', 'laws', 'calling', 'for', 'the', 'translation', 'of', 'all', 'governmental', 'proceedings', 'into', 'all', 'official', 'languages', 'of', 'the', 'corresponding', 'systems', 'of', 'government', '.', 'However', ',', 'most', 'other', 'systems', 'depended', 'on', 'corpora', 'specifically', 'developed', 'for', 'the', 'tasks', 'implemented', 'by', 'these', 'systems', ',', 'which', 'was', '(', 'and', 'often', 'continues', 'to', 'be', ')', 'a', 'major', 'limitation', 'in', 'the', 'success', 'of', 'these', 'systems', '.', 'As', 'a', 'result', ',', 'a', 'great', 'deal', 'of', 'research', 'has', 'gone', 'into', 'methods', 'of', 'more', 'effectively', 'learning', 'from', 'limited', 'amounts', 'of', 'data.\\\\n', \"'\", ',', \"'Recent\", 'research', 'has', 'increasingly', 'focused', 'on', 'unsupervised', 'and', 'semi-supervised', 'learning', 'algorithms', '.', 'Such', 'algorithms', 'can', 'learn', 'from', 'data', 'that', 'has', 'not', 'been', 'hand-annotated', 'with', 'the', 'desired', 'answers', 'or', 'using', 'a', 'combination', 'of', 'annotated', 'and', 'non-annotated', 'data', '.', 'Generally', ',', 'this', 'task', 'is', 'much', 'more', 'difficult', 'than', 'supervised', 'learning', ',', 'and', 'typically', 'produces', 'less', 'accurate', 'results', 'for', 'a', 'given', 'amount', 'of', 'input', 'data', '.', 'However', ',', 'there', 'is', 'an', 'enormous', 'amount', 'of', 'non-annotated', 'data', 'available', '(', 'including', ',', 'among', 'other', 'things', ',', 'the', 'entire', 'content', 'of', 'the', 'World', 'Wide', 'Web', ')', ',', 'which', 'can', 'often', 'make', 'up', 'for', 'the', 'inferior', 'results', 'if', 'the', 'algorithm', 'used', 'has', 'a', 'low', 'enough', 'time', 'complexity', 'to', 'be', 'practical.\\\\n', \"'\", ',', \"'In\", 'the', '2010s', ',', 'representation', 'learning', 'and', 'deep', 'neural', 'network-style', 'machine', 'learning', 'methods', 'became', 'widespread', 'in', 'natural', 'language', 'processing', ',', 'due', 'in', 'part', 'to', 'a', 'flurry', 'of', 'results', 'showing', 'that', 'such', 'techniques', '[', '4', ']', '[', '5', ']', 'can', 'achieve', 'state-of-the-art', 'results', 'in', 'many', 'natural', 'language', 'tasks', ',', 'for', 'example', 'in', 'language', 'modeling', ',', '[', '6', ']', 'parsing', ',', '[', '7', ']', '[', '8', ']', 'and', 'many', 'others', '.', 'Popular', 'techniques', 'include', 'the', 'use', 'of', 'word', 'embeddings', 'to', 'capture', 'semantic', 'properties', 'of', 'words', ',', 'and', 'an', 'increase', 'in', 'end-to-end', 'learning', 'of', 'a', 'higher-level', 'task', '(', 'e.g.', ',', 'question', 'answering', ')', 'instead', 'of', 'relying', 'on', 'a', 'pipeline', 'of', 'separate', 'intermediate', 'tasks', '(', 'e.g.', ',', 'part-of-speech', 'tagging', 'and', 'dependency', 'parsing', ')', '.', 'In', 'some', 'areas', ',', 'this', 'shift', 'has', 'entailed', 'substantial', 'changes', 'in', 'how', 'NLP', 'systems', 'are', 'designed', ',', 'such', 'that', 'deep', 'neural', 'network-based', 'approaches', 'may', 'be', 'viewed', 'as', 'a', 'new', 'paradigm', 'distinct', 'from', 'statistical', 'natural', 'language', 'processing', '.', 'For', 'instance', ',', 'the', 'term', 'neural', 'machine', 'translation', '(', 'NMT', ')', 'emphasizes', 'the', 'fact', 'that', 'deep', 'learning-based', 'approaches', 'to', 'machine', 'translation', 'directly', 'learn', 'sequence-to-sequence', 'transformations', ',', 'obviating', 'the', 'need', 'for', 'intermediate', 'steps', 'such', 'as', 'word', 'alignment', 'and', 'language', 'modeling', 'that', 'was', 'used', 'in', 'statistical', 'machine', 'translation', '(', 'SMT', ')', '.\\\\n', \"'\", ',', \"'In\", 'the', 'early', 'days', ',', 'many', 'language-processing', 'systems', 'were', 'designed', 'by', 'hand-coding', 'a', 'set', 'of', 'rules', ':', '[', '9', ']', '[', '10', ']', 'such', 'as', 'by', 'writing', 'grammars', 'or', 'devising', 'heuristic', 'rules', 'for', 'stemming', '.', '\\\\n', \"'\", ',', \"'Since\", 'the', 'so-called', '``', 'statistical', 'revolution', \"''\", '[', '11', ']', '[', '12', ']', 'in', 'the', 'late', '1980s', 'and', 'mid-1990s', ',', 'much', 'natural', 'language', 'processing', 'research', 'has', 'relied', 'heavily', 'on', 'machine', 'learning', '.', 'The', 'machine-learning', 'paradigm', 'calls', 'instead', 'for', 'using', 'statistical', 'inference', 'to', 'automatically', 'learn', 'such', 'rules', 'through', 'the', 'analysis', 'of', 'large', 'corpora', '(', 'the', 'plural', 'form', 'of', 'corpus', ',', 'is', 'a', 'set', 'of', 'documents', ',', 'possibly', 'with', 'human', 'or', 'computer', 'annotations', ')', 'of', 'typical', 'real-world', 'examples.\\\\n', \"'\", ',', \"'Many\", 'different', 'classes', 'of', 'machine-learning', 'algorithms', 'have', 'been', 'applied', 'to', 'natural-language-processing', 'tasks', '.', 'These', 'algorithms', 'take', 'as', 'input', 'a', 'large', 'set', 'of', '``', 'features', \"''\", 'that', 'are', 'generated', 'from', 'the', 'input', 'data', '.', 'Some', 'of', 'the', 'earliest-used', 'algorithms', ',', 'such', 'as', 'decision', 'trees', ',', 'produced', 'systems', 'of', 'hard', 'if-then', 'rules', 'similar', 'to', 'the', 'systems', 'of', 'handwritten', 'rules', 'that', 'were', 'then', 'common', '.', 'Increasingly', ',', 'however', ',', 'research', 'has', 'focused', 'on', 'statistical', 'models', ',', 'which', 'make', 'soft', ',', 'probabilistic', 'decisions', 'based', 'on', 'attaching', 'real-valued', 'weights', 'to', 'each', 'input', 'feature', '.', 'Such', 'models', 'have', 'the', 'advantage', 'that', 'they', 'can', 'express', 'the', 'relative', 'certainty', 'of', 'many', 'different', 'possible', 'answers', 'rather', 'than', 'only', 'one', ',', 'producing', 'more', 'reliable', 'results', 'when', 'such', 'a', 'model', 'is', 'included', 'as', 'a', 'component', 'of', 'a', 'larger', 'system.\\\\n', \"'\", ',', \"'Systems\", 'based', 'on', 'machine-learning', 'algorithms', 'have', 'many', 'advantages', 'over', 'hand-produced', 'rules', ':', '\\\\n', \"'\", ',', \"'The\", 'following', 'is', 'a', 'list', 'of', 'some', 'of', 'the', 'most', 'commonly', 'researched', 'tasks', 'in', 'natural', 'language', 'processing', '.', 'Some', 'of', 'these', 'tasks', 'have', 'direct', 'real-world', 'applications', ',', 'while', 'others', 'more', 'commonly', 'serve', 'as', 'subtasks', 'that', 'are', 'used', 'to', 'aid', 'in', 'solving', 'larger', 'tasks.\\\\n', \"'\", ',', \"'Though\", 'natural', 'language', 'processing', 'tasks', 'are', 'closely', 'intertwined', ',', 'they', 'are', 'frequently', 'subdivided', 'into', 'categories', 'for', 'convenience', '.', 'A', 'coarse', 'division', 'is', 'given', 'below.\\\\n', \"'\", ',', \"'The\", 'first', 'published', 'work', 'by', 'an', 'artificial', 'intelligence', 'was', 'published', 'in', '2018', ',', '1', 'the', 'Road', ',', 'marketed', 'as', 'a', 'novel', ',', 'contains', 'sixty', 'million', 'words.\\\\n', \"'\", ']']\n"
     ]
    }
   ],
   "source": [
    "tokens = word_tokenize(str(contents))\n",
    "print(tokens)"
   ]
  },
  {
   "cell_type": "code",
   "execution_count": 161,
   "metadata": {
    "collapsed": true,
    "jupyter": {
     "outputs_hidden": true
    }
   },
   "outputs": [
    {
     "name": "stdout",
     "output_type": "stream",
     "text": [
      "[\"'Natural\", 'language', 'processing', 'NLP', 'is', 'a', 'subfield', 'of', 'linguistics', 'computer', 'science', 'information', 'engineering', 'and', 'artificial', 'intelligence', 'concerned', 'with', 'the', 'interactions', 'between', 'computers', 'and', 'human', 'natural', 'languages', 'in', 'particular', 'how', 'to', 'program', 'computers', 'to', 'process', 'and', 'analyze', 'large', 'amounts', 'of', 'natural', 'language', 'data.\\\\n', \"'Challenges\", 'in', 'natural', 'language', 'processing', 'frequently', 'involve', 'speech', 'recognition', 'natural', 'language', 'understanding', 'and', 'natural', 'language', 'generation.\\\\n', \"'The\", 'history', 'of', 'natural', 'language', 'processing', 'NLP', 'generally', 'started', 'in', 'the', '1950s', 'although', 'work', 'can', 'be', 'found', 'from', 'earlier', 'periods.\\\\nIn', '1950', 'Alan', 'Turing', 'published', 'an', 'article', 'titled', '``', 'Computing', 'Machinery', 'and', 'Intelligence', \"''\", 'which', 'proposed', 'what', 'is', 'now', 'called', 'the', 'Turing', 'test', 'as', 'a', 'criterion', 'of', 'intelligence', 'clarification', 'needed', '.\\\\n', \"'The\", 'Georgetown', 'experiment', 'in', '1954', 'involved', 'fully', 'automatic', 'translation', 'of', 'more', 'than', 'sixty', 'Russian', 'sentences', 'into', 'English', 'The', 'authors', 'claimed', 'that', 'within', 'three', 'or', 'five', 'years', 'machine', 'translation', 'would', 'be', 'a', 'solved', 'problem', '2', 'However', 'real', 'progress', 'was', 'much', 'slower', 'and', 'after', 'the', 'ALPAC', 'report', 'in', '1966', 'which', 'found', 'that', 'ten-year-long', 'research', 'had', 'failed', 'to', 'fulfill', 'the', 'expectations', 'funding', 'for', 'machine', 'translation', 'was', 'dramatically', 'reduced', 'Little', 'further', 'research', 'in', 'machine', 'translation', 'was', 'conducted', 'until', 'the', 'late', '1980s', 'when', 'the', 'first', 'statistical', 'machine', 'translation', 'systems', 'were', 'developed.\\\\n', \"'Some\", 'notably', 'successful', 'natural', 'language', 'processing', 'systems', 'developed', 'in', 'the', '1960s', 'were', 'SHRDLU', 'a', 'natural', 'language', 'system', 'working', 'in', 'restricted', '``', 'blocks', 'worlds', \"''\", 'with', 'restricted', 'vocabularies', 'and', 'ELIZA', 'a', 'simulation', 'of', 'a', 'Rogerian', 'psychotherapist', 'written', 'by', 'Joseph', 'Weizenbaum', 'between', '1964', 'and', '1966', 'Using', 'almost', 'no', 'information', 'about', 'human', 'thought', 'or', 'emotion', 'ELIZA', 'sometimes', 'provided', 'a', 'startlingly', 'human-like', 'interaction', 'When', 'the', '``', 'patient', \"''\", 'exceeded', 'the', 'very', 'small', 'knowledge', 'base', 'ELIZA', 'might', 'provide', 'a', 'generic', 'response', 'for', 'example', 'responding', 'to', '``', 'My', 'head', 'hurts', \"''\", 'with', '``', 'Why', 'do', 'you', 'say', 'your', 'head', 'hurts', '``', '.\\\\n', \"'During\", 'the', '1970s', 'many', 'programmers', 'began', 'to', 'write', '``', 'conceptual', 'ontologies', \"''\", 'which', 'structured', 'real-world', 'information', 'into', 'computer-understandable', 'data', 'Examples', 'are', 'MARGIE', 'Schank', '1975', 'SAM', 'Cullingford', '1978', 'PAM', 'Wilensky', '1978', 'TaleSpin', 'Meehan', '1976', 'QUALM', 'Lehnert', '1977', 'Politics', 'Carbonell', '1979', 'and', 'Plot', 'Units', 'Lehnert', '1981', 'During', 'this', 'time', 'many', 'chatterbots', 'were', 'written', 'including', 'PARRY', 'Racter', 'and', 'Jabberwacky.\\\\n', '``', 'Up', 'to', 'the', '1980s', 'most', 'natural', 'language', 'processing', 'systems', 'were', 'based', 'on', 'complex', 'sets', 'of', 'hand-written', 'rules', 'Starting', 'in', 'the', 'late', '1980s', 'however', 'there', 'was', 'a', 'revolution', 'in', 'natural', 'language', 'processing', 'with', 'the', 'introduction', 'of', 'machine', 'learning', 'algorithms', 'for', 'language', 'processing', 'This', 'was', 'due', 'to', 'both', 'the', 'steady', 'increase', 'in', 'computational', 'power', 'see', 'Moore', \"'s\", 'law', 'and', 'the', 'gradual', 'lessening', 'of', 'the', 'dominance', 'of', 'Chomskyan', 'theories', 'of', 'linguistics', 'e.g', 'transformational', 'grammar', 'whose', 'theoretical', 'underpinnings', 'discouraged', 'the', 'sort', 'of', 'corpus', 'linguistics', 'that', 'underlies', 'the', 'machine-learning', 'approach', 'to', 'language', 'processing', '3', 'Some', 'of', 'the', 'earliest-used', 'machine', 'learning', 'algorithms', 'such', 'as', 'decision', 'trees', 'produced', 'systems', 'of', 'hard', 'if-then', 'rules', 'similar', 'to', 'existing', 'hand-written', 'rules', 'However', 'part-of-speech', 'tagging', 'introduced', 'the', 'use', 'of', 'hidden', 'Markov', 'models', 'to', 'natural', 'language', 'processing', 'and', 'increasingly', 'research', 'has', 'focused', 'on', 'statistical', 'models', 'which', 'make', 'soft', 'probabilistic', 'decisions', 'based', 'on', 'attaching', 'real-valued', 'weights', 'to', 'the', 'features', 'making', 'up', 'the', 'input', 'data', 'The', 'cache', 'language', 'models', 'upon', 'which', 'many', 'speech', 'recognition', 'systems', 'now', 'rely', 'are', 'examples', 'of', 'such', 'statistical', 'models', 'Such', 'models', 'are', 'generally', 'more', 'robust', 'when', 'given', 'unfamiliar', 'input', 'especially', 'input', 'that', 'contains', 'errors', 'as', 'is', 'very', 'common', 'for', 'real-world', 'data', 'and', 'produce', 'more', 'reliable', 'results', 'when', 'integrated', 'into', 'a', 'larger', 'system', 'comprising', 'multiple', 'subtasks.\\\\n', \"''\", \"'Many\", 'of', 'the', 'notable', 'early', 'successes', 'occurred', 'in', 'the', 'field', 'of', 'machine', 'translation', 'due', 'especially', 'to', 'work', 'at', 'IBM', 'Research', 'where', 'successively', 'more', 'complicated', 'statistical', 'models', 'were', 'developed', 'These', 'systems', 'were', 'able', 'to', 'take', 'advantage', 'of', 'existing', 'multilingual', 'textual', 'corpora', 'that', 'had', 'been', 'produced', 'by', 'the', 'Parliament', 'of', 'Canada', 'and', 'the', 'European', 'Union', 'as', 'a', 'result', 'of', 'laws', 'calling', 'for', 'the', 'translation', 'of', 'all', 'governmental', 'proceedings', 'into', 'all', 'official', 'languages', 'of', 'the', 'corresponding', 'systems', 'of', 'government', 'However', 'most', 'other', 'systems', 'depended', 'on', 'corpora', 'specifically', 'developed', 'for', 'the', 'tasks', 'implemented', 'by', 'these', 'systems', 'which', 'was', 'and', 'often', 'continues', 'to', 'be', 'a', 'major', 'limitation', 'in', 'the', 'success', 'of', 'these', 'systems', 'As', 'a', 'result', 'a', 'great', 'deal', 'of', 'research', 'has', 'gone', 'into', 'methods', 'of', 'more', 'effectively', 'learning', 'from', 'limited', 'amounts', 'of', 'data.\\\\n', \"'Recent\", 'research', 'has', 'increasingly', 'focused', 'on', 'unsupervised', 'and', 'semi-supervised', 'learning', 'algorithms', 'Such', 'algorithms', 'can', 'learn', 'from', 'data', 'that', 'has', 'not', 'been', 'hand-annotated', 'with', 'the', 'desired', 'answers', 'or', 'using', 'a', 'combination', 'of', 'annotated', 'and', 'non-annotated', 'data', 'Generally', 'this', 'task', 'is', 'much', 'more', 'difficult', 'than', 'supervised', 'learning', 'and', 'typically', 'produces', 'less', 'accurate', 'results', 'for', 'a', 'given', 'amount', 'of', 'input', 'data', 'However', 'there', 'is', 'an', 'enormous', 'amount', 'of', 'non-annotated', 'data', 'available', 'including', 'among', 'other', 'things', 'the', 'entire', 'content', 'of', 'the', 'World', 'Wide', 'Web', 'which', 'can', 'often', 'make', 'up', 'for', 'the', 'inferior', 'results', 'if', 'the', 'algorithm', 'used', 'has', 'a', 'low', 'enough', 'time', 'complexity', 'to', 'be', 'practical.\\\\n', \"'In\", 'the', '2010s', 'representation', 'learning', 'and', 'deep', 'neural', 'network-style', 'machine', 'learning', 'methods', 'became', 'widespread', 'in', 'natural', 'language', 'processing', 'due', 'in', 'part', 'to', 'a', 'flurry', 'of', 'results', 'showing', 'that', 'such', 'techniques', '4', '5', 'can', 'achieve', 'state-of-the-art', 'results', 'in', 'many', 'natural', 'language', 'tasks', 'for', 'example', 'in', 'language', 'modeling', '6', 'parsing', '7', '8', 'and', 'many', 'others', 'Popular', 'techniques', 'include', 'the', 'use', 'of', 'word', 'embeddings', 'to', 'capture', 'semantic', 'properties', 'of', 'words', 'and', 'an', 'increase', 'in', 'end-to-end', 'learning', 'of', 'a', 'higher-level', 'task', 'e.g.', 'question', 'answering', 'instead', 'of', 'relying', 'on', 'a', 'pipeline', 'of', 'separate', 'intermediate', 'tasks', 'e.g.', 'part-of-speech', 'tagging', 'and', 'dependency', 'parsing', 'In', 'some', 'areas', 'this', 'shift', 'has', 'entailed', 'substantial', 'changes', 'in', 'how', 'NLP', 'systems', 'are', 'designed', 'such', 'that', 'deep', 'neural', 'network-based', 'approaches', 'may', 'be', 'viewed', 'as', 'a', 'new', 'paradigm', 'distinct', 'from', 'statistical', 'natural', 'language', 'processing', 'For', 'instance', 'the', 'term', 'neural', 'machine', 'translation', 'NMT', 'emphasizes', 'the', 'fact', 'that', 'deep', 'learning-based', 'approaches', 'to', 'machine', 'translation', 'directly', 'learn', 'sequence-to-sequence', 'transformations', 'obviating', 'the', 'need', 'for', 'intermediate', 'steps', 'such', 'as', 'word', 'alignment', 'and', 'language', 'modeling', 'that', 'was', 'used', 'in', 'statistical', 'machine', 'translation', 'SMT', '.\\\\n', \"'In\", 'the', 'early', 'days', 'many', 'language-processing', 'systems', 'were', 'designed', 'by', 'hand-coding', 'a', 'set', 'of', 'rules', '9', '10', 'such', 'as', 'by', 'writing', 'grammars', 'or', 'devising', 'heuristic', 'rules', 'for', 'stemming', '\\\\n', \"'Since\", 'the', 'so-called', '``', 'statistical', 'revolution', \"''\", '11', '12', 'in', 'the', 'late', '1980s', 'and', 'mid-1990s', 'much', 'natural', 'language', 'processing', 'research', 'has', 'relied', 'heavily', 'on', 'machine', 'learning', 'The', 'machine-learning', 'paradigm', 'calls', 'instead', 'for', 'using', 'statistical', 'inference', 'to', 'automatically', 'learn', 'such', 'rules', 'through', 'the', 'analysis', 'of', 'large', 'corpora', 'the', 'plural', 'form', 'of', 'corpus', 'is', 'a', 'set', 'of', 'documents', 'possibly', 'with', 'human', 'or', 'computer', 'annotations', 'of', 'typical', 'real-world', 'examples.\\\\n', \"'Many\", 'different', 'classes', 'of', 'machine-learning', 'algorithms', 'have', 'been', 'applied', 'to', 'natural-language-processing', 'tasks', 'These', 'algorithms', 'take', 'as', 'input', 'a', 'large', 'set', 'of', '``', 'features', \"''\", 'that', 'are', 'generated', 'from', 'the', 'input', 'data', 'Some', 'of', 'the', 'earliest-used', 'algorithms', 'such', 'as', 'decision', 'trees', 'produced', 'systems', 'of', 'hard', 'if-then', 'rules', 'similar', 'to', 'the', 'systems', 'of', 'handwritten', 'rules', 'that', 'were', 'then', 'common', 'Increasingly', 'however', 'research', 'has', 'focused', 'on', 'statistical', 'models', 'which', 'make', 'soft', 'probabilistic', 'decisions', 'based', 'on', 'attaching', 'real-valued', 'weights', 'to', 'each', 'input', 'feature', 'Such', 'models', 'have', 'the', 'advantage', 'that', 'they', 'can', 'express', 'the', 'relative', 'certainty', 'of', 'many', 'different', 'possible', 'answers', 'rather', 'than', 'only', 'one', 'producing', 'more', 'reliable', 'results', 'when', 'such', 'a', 'model', 'is', 'included', 'as', 'a', 'component', 'of', 'a', 'larger', 'system.\\\\n', \"'Systems\", 'based', 'on', 'machine-learning', 'algorithms', 'have', 'many', 'advantages', 'over', 'hand-produced', 'rules', '\\\\n', \"'The\", 'following', 'is', 'a', 'list', 'of', 'some', 'of', 'the', 'most', 'commonly', 'researched', 'tasks', 'in', 'natural', 'language', 'processing', 'Some', 'of', 'these', 'tasks', 'have', 'direct', 'real-world', 'applications', 'while', 'others', 'more', 'commonly', 'serve', 'as', 'subtasks', 'that', 'are', 'used', 'to', 'aid', 'in', 'solving', 'larger', 'tasks.\\\\n', \"'Though\", 'natural', 'language', 'processing', 'tasks', 'are', 'closely', 'intertwined', 'they', 'are', 'frequently', 'subdivided', 'into', 'categories', 'for', 'convenience', 'A', 'coarse', 'division', 'is', 'given', 'below.\\\\n', \"'The\", 'first', 'published', 'work', 'by', 'an', 'artificial', 'intelligence', 'was', 'published', 'in', '2018', '1', 'the', 'Road', 'marketed', 'as', 'a', 'novel', 'contains', 'sixty', 'million', 'words.\\\\n']\n"
     ]
    }
   ],
   "source": [
    "import string\n",
    "remove_punctuation = [i for i in tokens if i not in string.punctuation]\n",
    "print(remove_punctuation)"
   ]
  },
  {
   "cell_type": "code",
   "execution_count": 175,
   "metadata": {},
   "outputs": [],
   "source": [
    "from nltk.corpus import stopwords"
   ]
  },
  {
   "cell_type": "code",
   "execution_count": 176,
   "metadata": {
    "collapsed": true,
    "jupyter": {
     "outputs_hidden": true
    }
   },
   "outputs": [
    {
     "name": "stdout",
     "output_type": "stream",
     "text": [
      "['i', 'me', 'my', 'myself', 'we', 'our', 'ours', 'ourselves', 'you', \"you're\", \"you've\", \"you'll\", \"you'd\", 'your', 'yours', 'yourself', 'yourselves', 'he', 'him', 'his', 'himself', 'she', \"she's\", 'her', 'hers', 'herself', 'it', \"it's\", 'its', 'itself', 'they', 'them', 'their', 'theirs', 'themselves', 'what', 'which', 'who', 'whom', 'this', 'that', \"that'll\", 'these', 'those', 'am', 'is', 'are', 'was', 'were', 'be', 'been', 'being', 'have', 'has', 'had', 'having', 'do', 'does', 'did', 'doing', 'a', 'an', 'the', 'and', 'but', 'if', 'or', 'because', 'as', 'until', 'while', 'of', 'at', 'by', 'for', 'with', 'about', 'against', 'between', 'into', 'through', 'during', 'before', 'after', 'above', 'below', 'to', 'from', 'up', 'down', 'in', 'out', 'on', 'off', 'over', 'under', 'again', 'further', 'then', 'once', 'here', 'there', 'when', 'where', 'why', 'how', 'all', 'any', 'both', 'each', 'few', 'more', 'most', 'other', 'some', 'such', 'no', 'nor', 'not', 'only', 'own', 'same', 'so', 'than', 'too', 'very', 's', 't', 'can', 'will', 'just', 'don', \"don't\", 'should', \"should've\", 'now', 'd', 'll', 'm', 'o', 're', 've', 'y', 'ain', 'aren', \"aren't\", 'couldn', \"couldn't\", 'didn', \"didn't\", 'doesn', \"doesn't\", 'hadn', \"hadn't\", 'hasn', \"hasn't\", 'haven', \"haven't\", 'isn', \"isn't\", 'ma', 'mightn', \"mightn't\", 'mustn', \"mustn't\", 'needn', \"needn't\", 'shan', \"shan't\", 'shouldn', \"shouldn't\", 'wasn', \"wasn't\", 'weren', \"weren't\", 'won', \"won't\", 'wouldn', \"wouldn't\"]\n"
     ]
    }
   ],
   "source": [
    "stop_word = stopwords.words('english')\n",
    "print(stop_word)"
   ]
  },
  {
   "cell_type": "code",
   "execution_count": 177,
   "metadata": {},
   "outputs": [],
   "source": [
    "remove_stop_word_token = [word for word in remove_punctuation if word not in stop_word]"
   ]
  },
  {
   "cell_type": "code",
   "execution_count": 178,
   "metadata": {},
   "outputs": [],
   "source": [
    "freq_dist = nltk.FreqDist(remove_stop_word_token)          # Count each token "
   ]
  },
  {
   "cell_type": "code",
   "execution_count": 179,
   "metadata": {},
   "outputs": [
    {
     "data": {
      "text/plain": [
       "[('language', 22),\n",
       " ('natural', 17),\n",
       " ('processing', 14),\n",
       " ('systems', 14),\n",
       " ('machine', 12),\n",
       " ('``', 10),\n",
       " ('translation', 10),\n",
       " ('statistical', 9),\n",
       " ('rules', 9),\n",
       " ('learning', 9),\n",
       " (\"''\", 8),\n",
       " ('many', 8),\n",
       " ('data', 8),\n",
       " ('algorithms', 8),\n",
       " ('models', 8),\n",
       " ('research', 7),\n",
       " ('input', 7),\n",
       " ('tasks', 7),\n",
       " ('results', 6),\n",
       " (\"'The\", 4)]"
      ]
     },
     "execution_count": 179,
     "metadata": {},
     "output_type": "execute_result"
    }
   ],
   "source": [
    "freq_dist.most_common(20)                  # first 20 most common tokens"
   ]
  },
  {
   "cell_type": "code",
   "execution_count": 180,
   "metadata": {},
   "outputs": [
    {
     "data": {
      "text/plain": [
       "17"
      ]
     },
     "execution_count": 180,
     "metadata": {},
     "output_type": "execute_result"
    }
   ],
   "source": [
    "freq_dist['natural']                           # Frequency count of Token : \"natural\""
   ]
  },
  {
   "cell_type": "code",
   "execution_count": 182,
   "metadata": {},
   "outputs": [
    {
     "data": {
      "text/plain": [
       "512"
      ]
     },
     "execution_count": 182,
     "metadata": {},
     "output_type": "execute_result"
    }
   ],
   "source": [
    "len(freq_dist)"
   ]
  },
  {
   "cell_type": "code",
   "execution_count": 183,
   "metadata": {},
   "outputs": [
    {
     "data": {
      "image/png": "[encoded data removed]",
      "text/plain": [
       "<Figure size 432x288 with 1 Axes>"
      ]
     },
     "metadata": {
      "needs_background": "light"
     },
     "output_type": "display_data"
    },
    {
     "data": {
      "text/plain": [
       "<matplotlib.axes._subplots.AxesSubplot at 0x1e8576477b8>"
      ]
     },
     "execution_count": 183,
     "metadata": {},
     "output_type": "execute_result"
    }
   ],
   "source": [
    "# plotting the frequeny of tokens\n",
    "freq_dist.plot(20, cumulative =False)"
   ]
  },
  {
   "cell_type": "code",
   "execution_count": 184,
   "metadata": {},
   "outputs": [
    {
     "data": {
      "image/png": "[encoded data removed]",
      "text/plain": [
       "<Figure size 432x288 with 1 Axes>"
      ]
     },
     "metadata": {
      "needs_background": "light"
     },
     "output_type": "display_data"
    },
    {
     "data": {
      "text/plain": [
       "<matplotlib.axes._subplots.AxesSubplot at 0x1e857355cc0>"
      ]
     },
     "execution_count": 184,
     "metadata": {},
     "output_type": "execute_result"
    }
   ],
   "source": [
    "freq_dist.plot(20, cumulative =True)"
   ]
  },
  {
   "cell_type": "code",
   "execution_count": 169,
   "metadata": {},
   "outputs": [],
   "source": []
  },
  {
   "cell_type": "code",
   "execution_count": null,
   "metadata": {},
   "outputs": [],
   "source": []
  }
 ],
 "metadata": {
  "kernelspec": {
   "display_name": "Python 3",
   "language": "python",
   "name": "python3"
  },
  "language_info": {
   "codemirror_mode": {
    "name": "ipython",
    "version": 3
   },
   "file_extension": ".py",
   "mimetype": "text/x-python",
   "name": "python",
   "nbconvert_exporter": "python",
   "pygments_lexer": "ipython3",
   "version": "3.7.3"
  }
 },
 "nbformat": 4,
 "nbformat_minor": 4
}
