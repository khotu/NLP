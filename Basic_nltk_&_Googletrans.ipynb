{
 "cells": [
  {
   "cell_type": "code",
   "execution_count": 13,
   "metadata": {},
   "outputs": [],
   "source": [
    "import nltk"
   ]
  },
  {
   "cell_type": "code",
   "execution_count": 17,
   "metadata": {},
   "outputs": [],
   "source": [
    "# nltk.download()               # use this commend to download and install all pakages of nltk"
   ]
  },
  {
   "cell_type": "code",
   "execution_count": 18,
   "metadata": {},
   "outputs": [],
   "source": [
    "text = 'Natural language processing (NLP) is a field of computer science, artificial intelligence and computational \\\n",
    "linguistics concerned with the interactions between computers and human (natural) languages, and, in particular, \\\n",
    "concerned with programming computers to fruitfully process large natural language corpora.’, \\\n",
    "‘Challenges in natural language processing frequently involve natural language understanding, natural language generation \\\n",
    "(frequently from formal, machine-readable logical forms), connecting language and machine perception, managing human-computer\\\n",
    "dialog systems, or some combination thereof.'\n",
    "  "
   ]
  },
  {
   "cell_type": "code",
   "execution_count": 19,
   "metadata": {},
   "outputs": [],
   "source": [
    "from nltk.tokenize import sent_tokenize, word_tokenize"
   ]
  },
  {
   "cell_type": "code",
   "execution_count": 20,
   "metadata": {},
   "outputs": [
    {
     "data": {
      "text/plain": [
       "['Natural language processing (NLP) is a field of computer science, artificial intelligence and computational linguistics concerned with the interactions between computers and human (natural) languages, and, in particular, concerned with programming computers to fruitfully process large natural language corpora.’, ‘Challenges in natural language processing frequently involve natural language understanding, natural language generation (frequently from formal, machine-readable logical forms), connecting language and machine perception, managing human-computerdialog systems, or some combination thereof.']"
      ]
     },
     "execution_count": 20,
     "metadata": {},
     "output_type": "execute_result"
    }
   ],
   "source": [
    "sent_tokenize(text)"
   ]
  },
  {
   "cell_type": "code",
   "execution_count": 25,
   "metadata": {},
   "outputs": [
    {
     "name": "stdout",
     "output_type": "stream",
     "text": [
      "['Natural', 'language', 'processing', '(', 'NLP', ')', 'is', 'a', 'field', 'of', 'computer', 'science', ',', 'artificial', 'intelligence', 'and', 'computational', 'linguistics', 'concerned', 'with', 'the', 'interactions', 'between', 'computers', 'and', 'human', '(', 'natural', ')', 'languages', ',', 'and', ',', 'in', 'particular', ',', 'concerned', 'with', 'programming', 'computers', 'to', 'fruitfully', 'process', 'large', 'natural', 'language', 'corpora.', '’', ',', '‘', 'Challenges', 'in', 'natural', 'language', 'processing', 'frequently', 'involve', 'natural', 'language', 'understanding', ',', 'natural', 'language', 'generation', '(', 'frequently', 'from', 'formal', ',', 'machine-readable', 'logical', 'forms', ')', ',', 'connecting', 'language', 'and', 'machine', 'perception', ',', 'managing', 'human-computerdialog', 'systems', ',', 'or', 'some', 'combination', 'thereof', '.']\n"
     ]
    }
   ],
   "source": [
    "token_word = word_tokenize(text)\n",
    "print(token_word)"
   ]
  },
  {
   "cell_type": "markdown",
   "metadata": {},
   "source": [
    "# Python  || Remove StopWords"
   ]
  },
  {
   "cell_type": "code",
   "execution_count": 22,
   "metadata": {},
   "outputs": [],
   "source": [
    "from nltk.corpus import stopwords"
   ]
  },
  {
   "cell_type": "code",
   "execution_count": 26,
   "metadata": {},
   "outputs": [
    {
     "name": "stdout",
     "output_type": "stream",
     "text": [
      "{\"hadn't\", 'ourselves', 'he', 'than', 'themselves', 'now', 'all', 'hers', 'when', 'from', 'm', 'am', 'ma', 'she', 'o', \"you're\", 'at', \"mustn't\", \"wasn't\", \"hasn't\", 'of', 'after', 'this', 'hadn', 'why', 'hasn', 'over', 'other', \"should've\", 'him', 'does', 'such', \"mightn't\", 'has', 'again', 'have', 'wasn', 's', 'll', 'is', 'most', 'didn', \"shan't\", 'that', 'not', 'through', 'having', \"don't\", 'any', 't', \"weren't\", 'some', \"shouldn't\", \"isn't\", 'few', \"aren't\", 'isn', 'needn', \"won't\", 'it', 'so', 'your', 'ours', 'her', 'in', 've', 'both', 'here', 'them', \"didn't\", 'doesn', 'herself', 'were', 'couldn', 'weren', 'further', 'up', 'because', 'too', 'which', 'while', 'whom', 'what', 'their', 'before', \"needn't\", 'myself', 'once', \"doesn't\", 'each', 'same', 'against', 'more', \"it's\", 'wouldn', 'they', 'who', 'his', 'about', 'was', 'between', 'don', 'above', 'only', 'below', 'for', 'himself', 'as', 're', 'with', 'you', 'how', \"you'd\", 'into', 'our', 'itself', \"that'll\", 'these', 'can', 'me', 'where', 'being', 'off', 'i', 'did', 'on', \"she's\", 'mightn', 'then', 'had', 'mustn', \"you'll\", 'those', 'very', 'nor', 'an', 'haven', 'd', 'down', 'no', 'aren', 'been', \"couldn't\", 'y', 'yourself', 'should', 'yourselves', 'there', 'theirs', 'out', 'ain', 'doing', 'during', 'until', 'will', 'to', 'do', 'the', 'shouldn', 'own', 'are', 'but', 'under', 'a', \"you've\", 'and', 'if', 'shan', \"haven't\", \"wouldn't\", 'its', 'or', 'yours', 'we', 'my', 'won', 'be', 'by', 'just'}\n"
     ]
    }
   ],
   "source": [
    "stop_word = set(stopwords.words(fileids='English'))\n",
    "print(stop_word)"
   ]
  },
  {
   "cell_type": "code",
   "execution_count": 24,
   "metadata": {},
   "outputs": [],
   "source": [
    "filter_sentence = [word for word in token_word if word not in stop_word]"
   ]
  },
  {
   "cell_type": "code",
   "execution_count": 29,
   "metadata": {},
   "outputs": [
    {
     "name": "stdout",
     "output_type": "stream",
     "text": [
      "['Natural', 'language', 'processing', '(', 'NLP', ')', 'field', 'computer', 'science', ',', 'artificial', 'intelligence', 'computational', 'linguistics', 'concerned', 'interactions', 'computers', 'human', '(', 'natural', ')', 'languages', ',', ',', 'particular', ',', 'concerned', 'programming', 'computers', 'fruitfully', 'process', 'large', 'natural', 'language', 'corpora.', '’', ',', '‘', 'Challenges', 'natural', 'language', 'processing', 'frequently', 'involve', 'natural', 'language', 'understanding', ',', 'natural', 'language', 'generation', '(', 'frequently', 'formal', ',', 'machine-readable', 'logical', 'forms', ')', ',', 'connecting', 'language', 'machine', 'perception', ',', 'managing', 'human-computerdialog', 'systems', ',', 'combination', 'thereof', '.']\n"
     ]
    }
   ],
   "source": [
    "print(filter_sentence)"
   ]
  },
  {
   "cell_type": "code",
   "execution_count": null,
   "metadata": {},
   "outputs": [],
   "source": []
  },
  {
   "cell_type": "markdown",
   "metadata": {},
   "source": [
    "# Python | Stemming words with NLTK"
   ]
  },
  {
   "cell_type": "code",
   "execution_count": 30,
   "metadata": {},
   "outputs": [],
   "source": [
    "from nltk.stem import PorterStemmer"
   ]
  },
  {
   "cell_type": "code",
   "execution_count": 31,
   "metadata": {},
   "outputs": [],
   "source": [
    "ps = PorterStemmer()"
   ]
  },
  {
   "cell_type": "code",
   "execution_count": 32,
   "metadata": {},
   "outputs": [
    {
     "name": "stdout",
     "output_type": "stream",
     "text": [
      "program  :  program\n",
      "programs  :  program\n",
      "programer  :  program\n",
      "programing  :  program\n",
      "programers  :  program\n"
     ]
    }
   ],
   "source": [
    "words = [\"program\", \"programs\", \"programer\", \"programing\", \"programers\"]\n",
    "\n",
    "for w in words:\n",
    "    print(w, \" : \", ps.stem(w))"
   ]
  },
  {
   "cell_type": "code",
   "execution_count": null,
   "metadata": {},
   "outputs": [],
   "source": []
  },
  {
   "cell_type": "code",
   "execution_count": null,
   "metadata": {},
   "outputs": [],
   "source": []
  },
  {
   "cell_type": "code",
   "execution_count": 34,
   "metadata": {},
   "outputs": [],
   "source": [
    "from nltk.stem import LancasterStemmer, RegexpStemmer"
   ]
  },
  {
   "cell_type": "code",
   "execution_count": 35,
   "metadata": {},
   "outputs": [],
   "source": [
    "ls =LancasterStemmer()"
   ]
  },
  {
   "cell_type": "code",
   "execution_count": 36,
   "metadata": {},
   "outputs": [
    {
     "name": "stdout",
     "output_type": "stream",
     "text": [
      "program  :  program\n",
      "programs  :  program\n",
      "programer  :  program\n",
      "programing  :  program\n",
      "programers  :  program\n"
     ]
    }
   ],
   "source": [
    "words = [\"program\", \"programs\", \"programer\", \"programing\", \"programers\"]\n",
    "\n",
    "for w in words:\n",
    "    print(w, \" : \", ls.stem(w))"
   ]
  },
  {
   "cell_type": "code",
   "execution_count": 37,
   "metadata": {},
   "outputs": [],
   "source": [
    "rs = RegexpStemmer(r'p')"
   ]
  },
  {
   "cell_type": "code",
   "execution_count": 38,
   "metadata": {},
   "outputs": [
    {
     "name": "stdout",
     "output_type": "stream",
     "text": [
      "program  :  rogram\n",
      "programs  :  rograms\n",
      "programer  :  rogramer\n",
      "programing  :  rograming\n",
      "programers  :  rogramers\n"
     ]
    }
   ],
   "source": [
    "words = [\"program\", \"programs\", \"programer\", \"programing\", \"programers\"]\n",
    "\n",
    "for w in words:\n",
    "    print(w, \" : \", rs.stem(w))"
   ]
  },
  {
   "cell_type": "code",
   "execution_count": null,
   "metadata": {},
   "outputs": [],
   "source": []
  },
  {
   "cell_type": "code",
   "execution_count": null,
   "metadata": {},
   "outputs": [],
   "source": []
  },
  {
   "cell_type": "code",
   "execution_count": 33,
   "metadata": {},
   "outputs": [
    {
     "name": "stdout",
     "output_type": "stream",
     "text": [
      "['natur', 'languag', 'process', '(', 'nlp', ')', 'field', 'comput', 'scienc', ',', 'artifici', 'intellig', 'comput', 'linguist', 'concern', 'interact', 'comput', 'human', '(', 'natur', ')', 'languag', ',', ',', 'particular', ',', 'concern', 'program', 'comput', 'fruit', 'process', 'larg', 'natur', 'languag', 'corpora.', '’', ',', '‘', 'challeng', 'natur', 'languag', 'process', 'frequent', 'involv', 'natur', 'languag', 'understand', ',', 'natur', 'languag', 'gener', '(', 'frequent', 'formal', ',', 'machine-read', 'logic', 'form', ')', ',', 'connect', 'languag', 'machin', 'percept', ',', 'manag', 'human-computerdialog', 'system', ',', 'combin', 'thereof', '.']\n"
     ]
    }
   ],
   "source": [
    "stem_sentence  = [ps.stem(word) for word in filter_sentence]\n",
    "print(stem_sentence)"
   ]
  },
  {
   "cell_type": "markdown",
   "metadata": {},
   "source": [
    "# Python | Lemmatization with NLTK"
   ]
  },
  {
   "cell_type": "code",
   "execution_count": 39,
   "metadata": {},
   "outputs": [],
   "source": [
    "from nltk.stem import WordNetLemmatizer"
   ]
  },
  {
   "cell_type": "code",
   "execution_count": 40,
   "metadata": {},
   "outputs": [],
   "source": [
    "wnl = WordNetLemmatizer()"
   ]
  },
  {
   "cell_type": "code",
   "execution_count": 41,
   "metadata": {
    "collapsed": true,
    "jupyter": {
     "outputs_hidden": true
    }
   },
   "outputs": [
    {
     "name": "stdout",
     "output_type": "stream",
     "text": [
      "program  :  program\n",
      "programs  :  program\n",
      "programer  :  programer\n",
      "programing  :  programing\n",
      "programers  :  programers\n"
     ]
    }
   ],
   "source": [
    "words = [\"program\", \"programs\", \"programer\", \"programing\", \"programers\"]\n",
    "\n",
    "for w in words:\n",
    "    print(w, \" : \", wnl.lemmatize(w))"
   ]
  },
  {
   "cell_type": "code",
   "execution_count": 42,
   "metadata": {
    "collapsed": true,
    "jupyter": {
     "outputs_hidden": true,
     "source_hidden": true
    }
   },
   "outputs": [
    {
     "name": "stdout",
     "output_type": "stream",
     "text": [
      "play : play\n",
      "plays : play\n",
      "played : played\n",
      "good : good\n"
     ]
    }
   ],
   "source": [
    "print(\"play :\", wnl.lemmatize(\"play\")) \n",
    "print(\"plays :\", wnl.lemmatize(\"plays\"))\n",
    "print(\"played :\", wnl.lemmatize(\"played\"))\n",
    "  \n",
    "print(\"good :\", wnl.lemmatize(\"goods\")) "
   ]
  },
  {
   "cell_type": "code",
   "execution_count": 43,
   "metadata": {},
   "outputs": [
    {
     "name": "stdout",
     "output_type": "stream",
     "text": [
      "['Natural', 'language', 'processing', '(', 'NLP', ')', 'field', 'computer', 'science', ',', 'artificial', 'intelligence', 'computational', 'linguistics', 'concerned', 'interaction', 'computer', 'human', '(', 'natural', ')', 'language', ',', ',', 'particular', ',', 'concerned', 'programming', 'computer', 'fruitfully', 'process', 'large', 'natural', 'language', 'corpora.', '’', ',', '‘', 'Challenges', 'natural', 'language', 'processing', 'frequently', 'involve', 'natural', 'language', 'understanding', ',', 'natural', 'language', 'generation', '(', 'frequently', 'formal', ',', 'machine-readable', 'logical', 'form', ')', ',', 'connecting', 'language', 'machine', 'perception', ',', 'managing', 'human-computerdialog', 'system', ',', 'combination', 'thereof', '.']\n"
     ]
    }
   ],
   "source": [
    "lemmatize_text = [wnl.lemmatize(word) for word in filter_sentence]\n",
    "print(lemmatize_text)"
   ]
  },
  {
   "cell_type": "code",
   "execution_count": null,
   "metadata": {},
   "outputs": [],
   "source": []
  },
  {
   "cell_type": "markdown",
   "metadata": {},
   "source": [
    "# python || googletrans library"
   ]
  },
  {
   "cell_type": "code",
   "execution_count": 13,
   "metadata": {},
   "outputs": [],
   "source": [
    "# pip install googletrans "
   ]
  },
  {
   "cell_type": "code",
   "execution_count": 14,
   "metadata": {},
   "outputs": [],
   "source": [
    "from googletrans import Translator, "
   ]
  },
  {
   "cell_type": "code",
   "execution_count": 15,
   "metadata": {},
   "outputs": [],
   "source": [
    "trans = Translator()"
   ]
  },
  {
   "cell_type": "code",
   "execution_count": 18,
   "metadata": {},
   "outputs": [],
   "source": [
    "lan = trans.detect(\"Natural language processing (NLP) is a field of computer science, artificial intelligence and computational\")"
   ]
  },
  {
   "cell_type": "code",
   "execution_count": 46,
   "metadata": {},
   "outputs": [
    {
     "data": {
      "text/plain": [
       "'en'"
      ]
     },
     "execution_count": 46,
     "metadata": {},
     "output_type": "execute_result"
    }
   ],
   "source": [
    "lan.lang"
   ]
  },
  {
   "cell_type": "code",
   "execution_count": 47,
   "metadata": {},
   "outputs": [
    {
     "data": {
      "text/plain": [
       "'english'"
      ]
     },
     "execution_count": 47,
     "metadata": {},
     "output_type": "execute_result"
    }
   ],
   "source": [
    "googletrans.LANGUAGES[lan.lang]"
   ]
  },
  {
   "cell_type": "code",
   "execution_count": 25,
   "metadata": {},
   "outputs": [
    {
     "data": {
      "text/plain": [
       "1.0"
      ]
     },
     "execution_count": 25,
     "metadata": {},
     "output_type": "execute_result"
    }
   ],
   "source": [
    "lan.confidence"
   ]
  },
  {
   "cell_type": "code",
   "execution_count": 27,
   "metadata": {},
   "outputs": [],
   "source": [
    "tra = trans.translate(\"मलेशिया में इमरान ख़ान ने की भारत की बात तो मुस्कुराए महातिर\")"
   ]
  },
  {
   "cell_type": "code",
   "execution_count": 28,
   "metadata": {},
   "outputs": [
    {
     "data": {
      "text/plain": [
       "'Imran Khan in Malaysia to the Indian smiled Mahathir'"
      ]
     },
     "execution_count": 28,
     "metadata": {},
     "output_type": "execute_result"
    }
   ],
   "source": [
    "tra.text"
   ]
  },
  {
   "cell_type": "code",
   "execution_count": 29,
   "metadata": {},
   "outputs": [
    {
     "data": {
      "text/plain": [
       "'Now counting ceased five days to vote in the Delhi Assembly elections. In such is no one wants to be left behind in political campaigning.'"
      ]
     },
     "execution_count": 29,
     "metadata": {},
     "output_type": "execute_result"
    }
   ],
   "source": [
    "trans.translate(\"दिल्ली विधानसभा चुनाव में मतदान के लिए अब गिनकर पाँच दिन रह गए हैं. ऐेसे में कोई भी राजनीतिक दल चुनाव प्रचार में पीछे नहीं रहना चाहता है.\").text"
   ]
  },
  {
   "cell_type": "code",
   "execution_count": 31,
   "metadata": {},
   "outputs": [
    {
     "data": {
      "text/plain": [
       "'hi'"
      ]
     },
     "execution_count": 31,
     "metadata": {},
     "output_type": "execute_result"
    }
   ],
   "source": [
    "trans.detect(\"मलेशिया में इमरान ख़ान ने की भारत की बात तो मुस्कुराए महातिर\").lang"
   ]
  },
  {
   "cell_type": "code",
   "execution_count": 33,
   "metadata": {},
   "outputs": [
    {
     "data": {
      "text/plain": [
       "'प्राकृतिक भाषा संसाधन में चुनौतियां अक्सर प्राकृतिक भाषा समझ, (औपचारिक, मशीन पठनीय तार्किक रूप से अक्सर) प्राकृतिक भाषा पीढ़ी, जोड़ने भाषा और मशीन धारणा के प्रबंध मानव computerdialog प्रणाली, या उसके कुछ संयोजन शामिल है।'"
      ]
     },
     "execution_count": 33,
     "metadata": {},
     "output_type": "execute_result"
    }
   ],
   "source": [
    "trans.translate(\"Challenges in natural language processing frequently involve natural language understanding, natural language generation (frequently from formal, machine-readable logical forms), connecting language and machine perception, managing human-computerdialog systems, or some combination thereof.\", dest='hi').text"
   ]
  },
  {
   "cell_type": "code",
   "execution_count": 34,
   "metadata": {},
   "outputs": [],
   "source": [
    "import googletrans"
   ]
  },
  {
   "cell_type": "code",
   "execution_count": 37,
   "metadata": {},
   "outputs": [
    {
     "data": {
      "text/plain": [
       "106"
      ]
     },
     "execution_count": 37,
     "metadata": {},
     "output_type": "execute_result"
    }
   ],
   "source": [
    "len(googletrans.LANGCODES)"
   ]
  },
  {
   "cell_type": "code",
   "execution_count": 48,
   "metadata": {},
   "outputs": [
    {
     "data": {
      "text/plain": [
       "106"
      ]
     },
     "execution_count": 48,
     "metadata": {},
     "output_type": "execute_result"
    }
   ],
   "source": [
    "len(googletrans.LANGUAGES)"
   ]
  },
  {
   "cell_type": "code",
   "execution_count": null,
   "metadata": {},
   "outputs": [],
   "source": []
  }
 ],
 "metadata": {
  "kernelspec": {
   "display_name": "Python 3",
   "language": "python",
   "name": "python3"
  },
  "language_info": {
   "codemirror_mode": {
    "name": "ipython",
    "version": 3
   },
   "file_extension": ".py",
   "mimetype": "text/x-python",
   "name": "python",
   "nbconvert_exporter": "python",
   "pygments_lexer": "ipython3",
   "version": "3.7.3"
  }
 },
 "nbformat": 4,
 "nbformat_minor": 4
}
